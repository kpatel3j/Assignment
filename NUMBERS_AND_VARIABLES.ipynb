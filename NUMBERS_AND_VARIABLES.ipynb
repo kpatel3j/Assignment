{
  "nbformat": 4,
  "nbformat_minor": 0,
  "metadata": {
    "colab": {
      "name": "NUMBERS AND VARIABLES.ipynb",
      "provenance": [],
      "collapsed_sections": [],
      "authorship_tag": "ABX9TyOg9N3B39EYpE2gofu0kioF",
      "include_colab_link": true
    },
    "kernelspec": {
      "name": "python3",
      "display_name": "Python 3"
    },
    "language_info": {
      "name": "python"
    }
  },
  "cells": [
    {
      "cell_type": "markdown",
      "metadata": {
        "id": "view-in-github",
        "colab_type": "text"
      },
      "source": [
        "<a href=\"https://colab.research.google.com/github/kpatel3j/Assignment/blob/main/NUMBERS_AND_VARIABLES.ipynb\" target=\"_parent\"><img src=\"https://colab.research.google.com/assets/colab-badge.svg\" alt=\"Open In Colab\"/></a>"
      ]
    },
    {
      "cell_type": "code",
      "execution_count": null,
      "metadata": {
        "id": "bw1dBS5CmySN",
        "colab": {
          "base_uri": "https://localhost:8080/"
        },
        "outputId": "3f6586e1-5ad6-4973-d0bc-0de9cf31c9a0"
      },
      "outputs": [
        {
          "output_type": "stream",
          "name": "stdout",
          "text": [
            "1 2.01 string\n"
          ]
        }
      ],
      "source": [
        "# 1. Create three variables in a single line and assign values to them in such a manner that each one of them belongs to a different data type.\n",
        "\n",
        "a, b, c = 1, 2.01, 'string'\n",
        "print(a, b, c)"
      ]
    },
    {
      "cell_type": "code",
      "source": [
        "# 2. Create a variable of type complex and swap it with another variable of type integer.\n",
        "\n",
        "x = 3+2j\n",
        "y = 5\n",
        "print(\"Before swap\")\n",
        "print(\"x: \", x, \"y: \", y)\n",
        "# swap x and y \n",
        "x, y = y, x\n",
        "print(\"After swap\")\n",
        "print(\"x: \", x, \"y: \", y)"
      ],
      "metadata": {
        "id": "haYxaATlnG2R",
        "colab": {
          "base_uri": "https://localhost:8080/"
        },
        "outputId": "6a52eab6-e45d-4075-caa8-08db85b54bd6"
      },
      "execution_count": null,
      "outputs": [
        {
          "output_type": "stream",
          "name": "stdout",
          "text": [
            "Before swap\n",
            "x:  (3+2j) y:  5\n",
            "After swap\n",
            "x:  5 y:  (3+2j)\n"
          ]
        }
      ]
    },
    {
      "cell_type": "code",
      "source": [
        "\n",
        "# 3. Swap two numbers using a third variable and do the same task without using any third variable.\n",
        "\n",
        "d = 3\n",
        "e = 7\n",
        "print(\"Before swap\")\n",
        "print(\"d: \", d, \"e: \", e)\n",
        "\n",
        "# swap d and e using 3rd variable\n",
        "temp = d\n",
        "d = e\n",
        "e = temp\n",
        "print(\"After 1st swap\")\n",
        "print(\"d: \", d, \"e: \", e)\n",
        "\n",
        "# swap without a third variable (generral formula a = a + b; b = a - b // b = a; a = a - b)\n",
        "d = d + e\n",
        "e = d - e\n",
        "d = d - e\n",
        "print(\"after 2nd swap\")\n",
        "print(\"d: \", d, \"e: \", e)\n"
      ],
      "metadata": {
        "id": "SmifXXh2nJ4U",
        "colab": {
          "base_uri": "https://localhost:8080/"
        },
        "outputId": "9f1578d6-b9ce-409a-c809-4c835b21f76d"
      },
      "execution_count": null,
      "outputs": [
        {
          "output_type": "stream",
          "name": "stdout",
          "text": [
            "Before swap\n",
            "d:  3 e:  7\n",
            "After 1st swap\n",
            "d:  7 e:  3\n",
            "after 2nd swap\n",
            "d:  3 e:  7\n"
          ]
        }
      ]
    },
    {
      "cell_type": "code",
      "source": [
        "# 4. Write a program that takes input from the user and prints it using both Python 2.x and Python 3.x Version.\n",
        "# Python 3.x\n",
        "val = input(\"Enter a number: \")\n",
        "print(val)\n",
        "\n",
        "#Python 2.x \n",
        "#val1 = raw_input(\"Enter the number: \")\n",
        "#print(val1)"
      ],
      "metadata": {
        "id": "bmzcVd2CnP_-",
        "colab": {
          "base_uri": "https://localhost:8080/"
        },
        "outputId": "bbfaaeed-cf8e-44a8-f4d6-b82a1a5dd8b1"
      },
      "execution_count": null,
      "outputs": [
        {
          "output_type": "stream",
          "name": "stdout",
          "text": [
            "Enter a number: 5\n",
            "5\n"
          ]
        }
      ]
    },
    {
      "cell_type": "code",
      "source": [
        "'''5. Write a program to complete the task given below:\n",
        "Ask users to enter any 2 numbers in between 1-10 , add the two numbers and keep the sum in\n",
        "another variable called z. Add 30 to z and store the output in variable result and print result as the\n",
        "final output.'''\n",
        "\n",
        "num1 = int(input(\"Enter a number between 1-10: \"))\n",
        "num2 = int(input(\"Enter another number between 1-10: \"))\n",
        "z = num1 + num2\n",
        "result = z + 30\n",
        "print(\"Final output: \", result)"
      ],
      "metadata": {
        "id": "xKH2GCF0nUKV",
        "colab": {
          "base_uri": "https://localhost:8080/"
        },
        "outputId": "20d7f4a0-10a2-4aff-9615-b5d61867e66b"
      },
      "execution_count": null,
      "outputs": [
        {
          "output_type": "stream",
          "name": "stdout",
          "text": [
            "Enter a number between 1-10: 2\n",
            "Enter another number between 1-10: 3\n",
            "Final output:  35\n"
          ]
        }
      ]
    },
    {
      "cell_type": "code",
      "source": [
        "# 6. Write a program to check the data type of the entered values.\n",
        "# HINT: Printed output should say - The data type of the input value is : int/float/string/etc\n",
        "a, b, c, d, e = 1, 2.5, \"cat\", True, 3+2j\n",
        "print(type(a))\n",
        "print(type(b))\n",
        "print(type(c))\n",
        "print(type(d))\n",
        "print(type(e))"
      ],
      "metadata": {
        "id": "jIIorIp7nYdB",
        "colab": {
          "base_uri": "https://localhost:8080/"
        },
        "outputId": "2bd3538e-80cd-4501-9e0f-cfb3833036dd"
      },
      "execution_count": null,
      "outputs": [
        {
          "output_type": "stream",
          "name": "stdout",
          "text": [
            "<class 'int'>\n",
            "<class 'float'>\n",
            "<class 'str'>\n",
            "<class 'bool'>\n",
            "<class 'complex'>\n"
          ]
        }
      ]
    },
    {
      "cell_type": "code",
      "source": [
        "# 7. Create Variables using formats such as Upper CamelCase, Lower CamelCase, SnakeCase and UPPERCASE.\n",
        "\n",
        "# Upper Camel Case\n",
        "a = \"UpperCamelCase\"\n",
        "print(a)\n",
        "\n",
        "# Lower Camel case\n",
        "b = \"lowerCamelCase\" \n",
        "print(b)\n",
        "\n",
        "# Snake case\n",
        "c = \"snake_case\"\n",
        "print(c)\n",
        "\n",
        "# upper case\n",
        "d = \"UPPERCASE\"\n",
        "print(d)"
      ],
      "metadata": {
        "colab": {
          "base_uri": "https://localhost:8080/"
        },
        "id": "WH4ZjvgvM4n7",
        "outputId": "2c8cfc63-f8b6-44c3-82ee-9120ce5bb6f8"
      },
      "execution_count": null,
      "outputs": [
        {
          "output_type": "stream",
          "name": "stdout",
          "text": [
            "UpperCamelCase\n",
            "lowerCamelCase\n",
            "snake_case\n",
            "UPPERCASE\n"
          ]
        }
      ]
    },
    {
      "cell_type": "markdown",
      "source": [
        "8. If one data type value is assigned to ‘a’ variable and then a different data type value is assigned to ‘a’ again. Will it change the value? If Yes then Why?\n",
        "\n",
        "Yes, it will change the value because Python is an interpered language meanng runs the code line by line and there is no complilation. Also, it is dynamically typed language meaning don't have to declare the type of variable while assigning a value to a variable and the type of the variable is determined only during runtime."
      ],
      "metadata": {
        "id": "LcvasO4SVyff"
      }
    }
  ]
}