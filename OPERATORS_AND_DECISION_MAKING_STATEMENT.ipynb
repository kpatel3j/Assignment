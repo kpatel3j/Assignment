{
  "nbformat": 4,
  "nbformat_minor": 0,
  "metadata": {
    "colab": {
      "name": "OPERATORS AND DECISION MAKING STATEMENT.ipynb",
      "provenance": [],
      "collapsed_sections": [],
      "authorship_tag": "ABX9TyMJjg6nNYwVJz4iJtDnxDeq",
      "include_colab_link": true
    },
    "kernelspec": {
      "name": "python3",
      "display_name": "Python 3"
    },
    "language_info": {
      "name": "python"
    }
  },
  "cells": [
    {
      "cell_type": "markdown",
      "metadata": {
        "id": "view-in-github",
        "colab_type": "text"
      },
      "source": [
        "<a href=\"https://colab.research.google.com/github/kpatel3j/Assignment/blob/main/OPERATORS_AND_DECISION_MAKING_STATEMENT.ipynb\" target=\"_parent\"><img src=\"https://colab.research.google.com/assets/colab-badge.svg\" alt=\"Open In Colab\"/></a>"
      ]
    },
    {
      "cell_type": "code",
      "execution_count": null,
      "metadata": {
        "colab": {
          "base_uri": "https://localhost:8080/"
        },
        "id": "RTeJTnCKMuhG",
        "outputId": "7e2a9928-fb44-453b-f4af-b33aa49560ae"
      },
      "outputs": [
        {
          "output_type": "stream",
          "name": "stdout",
          "text": [
            "Enter a number: 35\n",
            "Python Training\n"
          ]
        }
      ],
      "source": [
        "# 1. Write a program in Python to perform the following operation:\n",
        "\n",
        "num = int(input(\"Enter a number: \"))\n",
        "\n",
        "if num % 3 == 0 and num % 5 == 0:         # If a number is divisible by both 3 and 5 it should print “Consultadd - Python Training” as a string.\n",
        "  print(\"Consultadd - Python Training\")\n",
        "\n",
        "elif num % 3 == 0:            # If a number is divisible by 3 it should print “Consultadd” as a string\n",
        "  print (\"Consultadd\")\n",
        "\n",
        "elif num % 5 == 0:            # If a number is divisible by 5 it should print “Python Training” as a string\n",
        "  print(\"Python Training\")"
      ]
    },
    {
      "cell_type": "code",
      "source": [
        "'''2. Write a program in Python to perform the following operator based task:\n",
        "Ask user to choose the following option first:\n",
        "If User Enter 1 - Addition\n",
        "If User Enter 2 - Subtraction\n",
        "If User Enter 3 - Division\n",
        "If User Enter 4 - Multiplication\n",
        "If User Enter 5 - Average\n",
        "Ask user to enter two numbers and keep those numbers in variables num1 and num2\n",
        "respectively for the first 4 options mentioned above.\n",
        "Ask the user to enter two more numbers as first and second for calculating the average as\n",
        "soon as the user chooses an option 5.\n",
        "At the end if the answer of any operation is Negative print a statement saying “NEGATIVE”\n",
        "NOTE: At a time a user can only perform one action. '''\n",
        "\n",
        "num1 = int(input(\"Enter a number: \"))\n",
        "num2 = int(input(\"Enter another number: \"))\n",
        "\n",
        "print(\"Enter 1 for addition, 2 for subtraction, 3 for division, 4 for multiplication or 5 for average\")\n",
        "\n",
        "option = int(input(\"Enter which operation would you like to perform? \"))\n",
        "\n",
        "if option == 1:\n",
        "  add = num1 + num2\n",
        "  print(add)\n",
        "\n",
        "elif option == 2:\n",
        "  sub = num1 - num2\n",
        "  print(sub)\n",
        "\n",
        "elif option == 3:\n",
        "  div = num1 / num2\n",
        "  print(div)\n",
        "\n",
        "elif option == 4:\n",
        "  mult = num1 * num2\n",
        "  print(mult)\n",
        "\n",
        "elif option == 5:\n",
        "  firstNum = int(input(\"Enter first number: \"))\n",
        "  secondNum = int(input(\"Enter second number: \"))\n",
        "  avg = (num1 + num2 + firstNum + secondNum)/4\n",
        "  print(avg)\n",
        "\n",
        "else:\n",
        "  print(\"NEGATIVE\")"
      ],
      "metadata": {
        "colab": {
          "base_uri": "https://localhost:8080/"
        },
        "id": "QO7LIorBnZ1A",
        "outputId": "30bc6420-3943-4f6b-9e9d-b2649729db0f"
      },
      "execution_count": null,
      "outputs": [
        {
          "output_type": "stream",
          "name": "stdout",
          "text": [
            "Enter a number: 2\n",
            "Enter another number: 3\n",
            "Enter 1 for addition, 2 for subtraction, 3 for division, 4 for multiplication or 5 for average\n",
            "Enter which operation would you like to perform? 2\n",
            "-1\n",
            "NEGATIVE\n"
          ]
        }
      ]
    },
    {
      "cell_type": "code",
      "source": [
        "# 3. Write a program in Python to implement the given flowchart:\n",
        "a, b, c = 10, 20, 30 \n",
        "avg = (a + b + c)/3\n",
        "print(\"avg = \", avg)\n",
        "\n",
        "if avg > a and avg > b and avg > c:\n",
        "  print(\"avg is higher than a, b, c \")\n",
        "\n",
        "elif avg > a and avg > b:\n",
        "  print(\"avg is higher than a, b, c\")\n",
        "\n",
        "elif avg > a and avg > c:\n",
        "  print(\"avg is higher than a, c\")\n",
        "\n",
        "elif avg > b and avg > c:\n",
        "  print(\"avg is higher than b, c\")\n",
        "\n",
        "elif avg > a:\n",
        "  print(\"avg is just higher than a\")\n",
        "\n",
        "elif avg > b:\n",
        "  print(\"avg is just higher than b\")\n",
        "\n",
        "elif avg > c:\n",
        "  print(\"avg is just higher than c\")\n"
      ],
      "metadata": {
        "colab": {
          "base_uri": "https://localhost:8080/"
        },
        "id": "SMH1Tezh3jz_",
        "outputId": "24be344e-dac3-490f-a0a0-25ee9379b4e5"
      },
      "execution_count": null,
      "outputs": [
        {
          "output_type": "stream",
          "name": "stdout",
          "text": [
            "avg =  20.0\n",
            "avg is just higher than a\n"
          ]
        }
      ]
    },
    {
      "cell_type": "code",
      "source": [
        "'''4. Write a program in Python to break and continue if the following cases occurs:\n",
        "If user enters a negative number just break the loop and print “It’s Over”\n",
        "If user enters a positive number just continue in the loop and print “Good Going”   '''\n",
        "\n",
        "while True:\n",
        "  val = int(input(\"Enter the number: \"))\n",
        "  \n",
        "  if val < 0:\n",
        "    print(\"Its's over\")\n",
        "    break   \n",
        "  if val > 0:\n",
        "    print(\"Good going\")\n",
        "    print(\"To end the game enter a negative number.\")\n",
        "    continue"
      ],
      "metadata": {
        "colab": {
          "base_uri": "https://localhost:8080/"
        },
        "id": "mH0Ncl516V_G",
        "outputId": "c00b4ab0-2060-4727-9417-3870e65985b5"
      },
      "execution_count": null,
      "outputs": [
        {
          "output_type": "stream",
          "name": "stdout",
          "text": [
            "Enter the number: 5\n",
            "Good going\n",
            "To end the game enter a negative number.\n",
            "Enter the number: -1\n",
            "Its's over\n"
          ]
        }
      ]
    },
    {
      "cell_type": "code",
      "source": [
        "# 5. Write a program in Python which will find all such numbers which are divisible by 7 but are not a multiple of 5, between 2000 and 3200.\n",
        "\n",
        "lst = [i for i in range(2000, 3200) if i % 7 == 0 and i % 5 != 0]\n",
        "print(lst)"
      ],
      "metadata": {
        "colab": {
          "base_uri": "https://localhost:8080/"
        },
        "id": "uEFlZ4uaNJNs",
        "outputId": "52b7a433-2585-46af-8a97-5118c7dfd525"
      },
      "execution_count": null,
      "outputs": [
        {
          "output_type": "stream",
          "name": "stdout",
          "text": [
            "[2002, 2009, 2016, 2023, 2037, 2044, 2051, 2058, 2072, 2079, 2086, 2093, 2107, 2114, 2121, 2128, 2142, 2149, 2156, 2163, 2177, 2184, 2191, 2198, 2212, 2219, 2226, 2233, 2247, 2254, 2261, 2268, 2282, 2289, 2296, 2303, 2317, 2324, 2331, 2338, 2352, 2359, 2366, 2373, 2387, 2394, 2401, 2408, 2422, 2429, 2436, 2443, 2457, 2464, 2471, 2478, 2492, 2499, 2506, 2513, 2527, 2534, 2541, 2548, 2562, 2569, 2576, 2583, 2597, 2604, 2611, 2618, 2632, 2639, 2646, 2653, 2667, 2674, 2681, 2688, 2702, 2709, 2716, 2723, 2737, 2744, 2751, 2758, 2772, 2779, 2786, 2793, 2807, 2814, 2821, 2828, 2842, 2849, 2856, 2863, 2877, 2884, 2891, 2898, 2912, 2919, 2926, 2933, 2947, 2954, 2961, 2968, 2982, 2989, 2996, 3003, 3017, 3024, 3031, 3038, 3052, 3059, 3066, 3073, 3087, 3094, 3101, 3108, 3122, 3129, 3136, 3143, 3157, 3164, 3171, 3178, 3192, 3199]\n"
          ]
        }
      ]
    },
    {
      "cell_type": "code",
      "source": [
        "# 6. What is the output of the following code examples?\n",
        "\n",
        "x=123\n",
        "for i in x:\n",
        "  print(i)"
      ],
      "metadata": {
        "colab": {
          "base_uri": "https://localhost:8080/",
          "height": 217
        },
        "id": "RK-vBkM9Qv01",
        "outputId": "ec3567ee-2030-4769-8526-3b17b5e57308"
      },
      "execution_count": null,
      "outputs": [
        {
          "output_type": "error",
          "ename": "TypeError",
          "evalue": "ignored",
          "traceback": [
            "\u001b[0;31m---------------------------------------------------------------------------\u001b[0m",
            "\u001b[0;31mTypeError\u001b[0m                                 Traceback (most recent call last)",
            "\u001b[0;32m<ipython-input-11-ef2687c9d790>\u001b[0m in \u001b[0;36m<module>\u001b[0;34m()\u001b[0m\n\u001b[1;32m      2\u001b[0m \u001b[0;34m\u001b[0m\u001b[0m\n\u001b[1;32m      3\u001b[0m \u001b[0mx\u001b[0m\u001b[0;34m=\u001b[0m\u001b[0;36m123\u001b[0m\u001b[0;34m\u001b[0m\u001b[0;34m\u001b[0m\u001b[0m\n\u001b[0;32m----> 4\u001b[0;31m \u001b[0;32mfor\u001b[0m \u001b[0mi\u001b[0m \u001b[0;32min\u001b[0m \u001b[0mx\u001b[0m\u001b[0;34m:\u001b[0m\u001b[0;34m\u001b[0m\u001b[0;34m\u001b[0m\u001b[0m\n\u001b[0m\u001b[1;32m      5\u001b[0m   \u001b[0mprint\u001b[0m\u001b[0;34m(\u001b[0m\u001b[0mi\u001b[0m\u001b[0;34m)\u001b[0m\u001b[0;34m\u001b[0m\u001b[0;34m\u001b[0m\u001b[0m\n",
            "\u001b[0;31mTypeError\u001b[0m: 'int' object is not iterable"
          ]
        }
      ]
    },
    {
      "cell_type": "code",
      "source": [
        "# 6. What is the output of the following code examples?\n",
        "i = 0\n",
        "\n",
        "while i < 5:\n",
        "  print(i)\n",
        "  i += 1\n",
        "  if i == 3:\n",
        "    break\n",
        "  else:\n",
        "    print(\"error\")"
      ],
      "metadata": {
        "colab": {
          "base_uri": "https://localhost:8080/"
        },
        "id": "uKNqlnw6Skff",
        "outputId": "8b5c67b8-854a-4165-a593-23ac452010c0"
      },
      "execution_count": null,
      "outputs": [
        {
          "output_type": "stream",
          "name": "stdout",
          "text": [
            "0\n",
            "error\n",
            "1\n",
            "error\n",
            "2\n"
          ]
        }
      ]
    },
    {
      "cell_type": "code",
      "source": [
        "# 6. What is the output of the following code examples?\n",
        "count = 0\n",
        "\n",
        "while True:\n",
        "  print(count)\n",
        "  count += 1\n",
        "  if count >= 5:\n",
        "    break"
      ],
      "metadata": {
        "colab": {
          "base_uri": "https://localhost:8080/"
        },
        "id": "smbuQkWxTyOG",
        "outputId": "a7768069-d34e-40e8-8bee-5779f1028f1b"
      },
      "execution_count": null,
      "outputs": [
        {
          "output_type": "stream",
          "name": "stdout",
          "text": [
            "0\n",
            "1\n",
            "2\n",
            "3\n",
            "4\n"
          ]
        }
      ]
    },
    {
      "cell_type": "code",
      "source": [
        "# 7. Write a program that prints all the numbers from 0 to 6 except 3 and 6.\n",
        "# Expected output: 0 1 2 4 5\n",
        "# Note: Use ‘continue’ statement\n",
        "\n",
        "for i in range(7):\n",
        "  if i == 3 or i == 6:\n",
        "    continue\n",
        "  print(i, end = \" \")"
      ],
      "metadata": {
        "colab": {
          "base_uri": "https://localhost:8080/"
        },
        "id": "cv74-ltcUs0X",
        "outputId": "e4c95b8e-7ab0-471f-af96-19bfefda3d8f"
      },
      "execution_count": null,
      "outputs": [
        {
          "output_type": "stream",
          "name": "stdout",
          "text": [
            "0 1 2 4 5 "
          ]
        }
      ]
    },
    {
      "cell_type": "code",
      "source": [
        "# 8. Write a program that accepts a string as an input from the user and calculate the number of digits and letters.\n",
        "# Sample input: consul72\n",
        "# Expected output: Letters 6 Digits 2\n",
        "\n",
        "x = input(\"Enter the string mixed with numbers: \")\n",
        "d = l = 0\n",
        "\n",
        "for i in x:\n",
        "  if i.isdigit():\n",
        "    d += 1\n",
        "  elif i.isalpha():\n",
        "    l += 1\n",
        "print(\"Letters \", l)\n",
        "print(\"Digits \", d)"
      ],
      "metadata": {
        "colab": {
          "base_uri": "https://localhost:8080/"
        },
        "id": "PTiTeuolZZiC",
        "outputId": "b04b2627-3f0c-494f-d663-8c3ae2396e29"
      },
      "execution_count": null,
      "outputs": [
        {
          "output_type": "stream",
          "name": "stdout",
          "text": [
            "Enter the string mixed with numbers: najryqqoifh48569req8rq\n",
            "Letters  16\n",
            "Digits  6\n"
          ]
        }
      ]
    },
    {
      "cell_type": "code",
      "source": [
        "# 9. Read the two parts of the question below:\n",
        "''' Write a program such that it asks users to “guess the lucky number”. If the correct number is guessed the program stops,\n",
        "otherwise it continues forever.\n",
        "Modify the program so that it asks users whether they want to guess again each time. Use two\n",
        "variables, ‘number’ for the number and ‘answer’ for the answer to the question whether they want to continue guessing. \n",
        "The program stops if the user guesses the correct number or answers “no”. (The program continues as long as a user \n",
        "has not answered “no” and has not guessed the correct number)  '''\n",
        "\n",
        "num = input(\"Guess the lucky number: \")\n",
        "while num != 5:\n",
        "   print(\"That is not the lucky number\")\n",
        "   num = input(\"Guess the lucky number: \")"
      ],
      "metadata": {
        "colab": {
          "base_uri": "https://localhost:8080/",
          "height": 710
        },
        "id": "e5sAnK7tctbU",
        "outputId": "5537df8e-8762-4321-f481-b6d0ce8909a8"
      },
      "execution_count": null,
      "outputs": [
        {
          "output_type": "stream",
          "name": "stdout",
          "text": [
            "Guess the lucky number: 1\n",
            "That is not the lucky number\n",
            "Guess the lucky number: 2\n",
            "That is not the lucky number\n",
            "Guess the lucky number: 2\n",
            "That is not the lucky number\n",
            "Guess the lucky number: \n",
            "That is not the lucky number\n",
            "Guess the lucky number: \n",
            "That is not the lucky number\n"
          ]
        },
        {
          "output_type": "error",
          "ename": "KeyboardInterrupt",
          "evalue": "ignored",
          "traceback": [
            "\u001b[0;31m---------------------------------------------------------------------------\u001b[0m",
            "\u001b[0;31mKeyboardInterrupt\u001b[0m                         Traceback (most recent call last)",
            "\u001b[0;32m/usr/local/lib/python3.7/dist-packages/ipykernel/kernelbase.py\u001b[0m in \u001b[0;36m_input_request\u001b[0;34m(self, prompt, ident, parent, password)\u001b[0m\n\u001b[1;32m    728\u001b[0m             \u001b[0;32mtry\u001b[0m\u001b[0;34m:\u001b[0m\u001b[0;34m\u001b[0m\u001b[0;34m\u001b[0m\u001b[0m\n\u001b[0;32m--> 729\u001b[0;31m                 \u001b[0mident\u001b[0m\u001b[0;34m,\u001b[0m \u001b[0mreply\u001b[0m \u001b[0;34m=\u001b[0m \u001b[0mself\u001b[0m\u001b[0;34m.\u001b[0m\u001b[0msession\u001b[0m\u001b[0;34m.\u001b[0m\u001b[0mrecv\u001b[0m\u001b[0;34m(\u001b[0m\u001b[0mself\u001b[0m\u001b[0;34m.\u001b[0m\u001b[0mstdin_socket\u001b[0m\u001b[0;34m,\u001b[0m \u001b[0;36m0\u001b[0m\u001b[0;34m)\u001b[0m\u001b[0;34m\u001b[0m\u001b[0;34m\u001b[0m\u001b[0m\n\u001b[0m\u001b[1;32m    730\u001b[0m             \u001b[0;32mexcept\u001b[0m \u001b[0mException\u001b[0m\u001b[0;34m:\u001b[0m\u001b[0;34m\u001b[0m\u001b[0;34m\u001b[0m\u001b[0m\n",
            "\u001b[0;32m/usr/local/lib/python3.7/dist-packages/jupyter_client/session.py\u001b[0m in \u001b[0;36mrecv\u001b[0;34m(self, socket, mode, content, copy)\u001b[0m\n\u001b[1;32m    802\u001b[0m         \u001b[0;32mtry\u001b[0m\u001b[0;34m:\u001b[0m\u001b[0;34m\u001b[0m\u001b[0;34m\u001b[0m\u001b[0m\n\u001b[0;32m--> 803\u001b[0;31m             \u001b[0mmsg_list\u001b[0m \u001b[0;34m=\u001b[0m \u001b[0msocket\u001b[0m\u001b[0;34m.\u001b[0m\u001b[0mrecv_multipart\u001b[0m\u001b[0;34m(\u001b[0m\u001b[0mmode\u001b[0m\u001b[0;34m,\u001b[0m \u001b[0mcopy\u001b[0m\u001b[0;34m=\u001b[0m\u001b[0mcopy\u001b[0m\u001b[0;34m)\u001b[0m\u001b[0;34m\u001b[0m\u001b[0;34m\u001b[0m\u001b[0m\n\u001b[0m\u001b[1;32m    804\u001b[0m         \u001b[0;32mexcept\u001b[0m \u001b[0mzmq\u001b[0m\u001b[0;34m.\u001b[0m\u001b[0mZMQError\u001b[0m \u001b[0;32mas\u001b[0m \u001b[0me\u001b[0m\u001b[0;34m:\u001b[0m\u001b[0;34m\u001b[0m\u001b[0;34m\u001b[0m\u001b[0m\n",
            "\u001b[0;32m/usr/local/lib/python3.7/dist-packages/zmq/sugar/socket.py\u001b[0m in \u001b[0;36mrecv_multipart\u001b[0;34m(self, flags, copy, track)\u001b[0m\n\u001b[1;32m    624\u001b[0m         \"\"\"\n\u001b[0;32m--> 625\u001b[0;31m         \u001b[0mparts\u001b[0m \u001b[0;34m=\u001b[0m \u001b[0;34m[\u001b[0m\u001b[0mself\u001b[0m\u001b[0;34m.\u001b[0m\u001b[0mrecv\u001b[0m\u001b[0;34m(\u001b[0m\u001b[0mflags\u001b[0m\u001b[0;34m,\u001b[0m \u001b[0mcopy\u001b[0m\u001b[0;34m=\u001b[0m\u001b[0mcopy\u001b[0m\u001b[0;34m,\u001b[0m \u001b[0mtrack\u001b[0m\u001b[0;34m=\u001b[0m\u001b[0mtrack\u001b[0m\u001b[0;34m)\u001b[0m\u001b[0;34m]\u001b[0m\u001b[0;34m\u001b[0m\u001b[0;34m\u001b[0m\u001b[0m\n\u001b[0m\u001b[1;32m    626\u001b[0m         \u001b[0;31m# have first part already, only loop while more to receive\u001b[0m\u001b[0;34m\u001b[0m\u001b[0;34m\u001b[0m\u001b[0;34m\u001b[0m\u001b[0m\n",
            "\u001b[0;32mzmq/backend/cython/socket.pyx\u001b[0m in \u001b[0;36mzmq.backend.cython.socket.Socket.recv\u001b[0;34m()\u001b[0m\n",
            "\u001b[0;32mzmq/backend/cython/socket.pyx\u001b[0m in \u001b[0;36mzmq.backend.cython.socket.Socket.recv\u001b[0;34m()\u001b[0m\n",
            "\u001b[0;32mzmq/backend/cython/socket.pyx\u001b[0m in \u001b[0;36mzmq.backend.cython.socket._recv_copy\u001b[0;34m()\u001b[0m\n",
            "\u001b[0;32m/usr/local/lib/python3.7/dist-packages/zmq/backend/cython/checkrc.pxd\u001b[0m in \u001b[0;36mzmq.backend.cython.checkrc._check_rc\u001b[0;34m()\u001b[0m\n",
            "\u001b[0;31mKeyboardInterrupt\u001b[0m: ",
            "\nDuring handling of the above exception, another exception occurred:\n",
            "\u001b[0;31mKeyboardInterrupt\u001b[0m                         Traceback (most recent call last)",
            "\u001b[0;32m<ipython-input-31-ad65f8afe5be>\u001b[0m in \u001b[0;36m<module>\u001b[0;34m()\u001b[0m\n\u001b[1;32m     10\u001b[0m \u001b[0;32mwhile\u001b[0m \u001b[0mnum\u001b[0m \u001b[0;34m!=\u001b[0m \u001b[0;36m5\u001b[0m\u001b[0;34m:\u001b[0m\u001b[0;34m\u001b[0m\u001b[0;34m\u001b[0m\u001b[0m\n\u001b[1;32m     11\u001b[0m    \u001b[0mprint\u001b[0m\u001b[0;34m(\u001b[0m\u001b[0;34m\"That is not the lucky number\"\u001b[0m\u001b[0;34m)\u001b[0m\u001b[0;34m\u001b[0m\u001b[0;34m\u001b[0m\u001b[0m\n\u001b[0;32m---> 12\u001b[0;31m    \u001b[0mnum\u001b[0m \u001b[0;34m=\u001b[0m \u001b[0minput\u001b[0m\u001b[0;34m(\u001b[0m\u001b[0;34m\"Guess the lucky number: \"\u001b[0m\u001b[0;34m)\u001b[0m\u001b[0;34m\u001b[0m\u001b[0;34m\u001b[0m\u001b[0m\n\u001b[0m\u001b[1;32m     13\u001b[0m \u001b[0;34m\u001b[0m\u001b[0m\n\u001b[1;32m     14\u001b[0m \u001b[0mnumber\u001b[0m \u001b[0;34m=\u001b[0m \u001b[0;34m-\u001b[0m\u001b[0;36m1\u001b[0m\u001b[0;34m\u001b[0m\u001b[0;34m\u001b[0m\u001b[0m\n",
            "\u001b[0;32m/usr/local/lib/python3.7/dist-packages/ipykernel/kernelbase.py\u001b[0m in \u001b[0;36mraw_input\u001b[0;34m(self, prompt)\u001b[0m\n\u001b[1;32m    702\u001b[0m             \u001b[0mself\u001b[0m\u001b[0;34m.\u001b[0m\u001b[0m_parent_ident\u001b[0m\u001b[0;34m,\u001b[0m\u001b[0;34m\u001b[0m\u001b[0;34m\u001b[0m\u001b[0m\n\u001b[1;32m    703\u001b[0m             \u001b[0mself\u001b[0m\u001b[0;34m.\u001b[0m\u001b[0m_parent_header\u001b[0m\u001b[0;34m,\u001b[0m\u001b[0;34m\u001b[0m\u001b[0;34m\u001b[0m\u001b[0m\n\u001b[0;32m--> 704\u001b[0;31m             \u001b[0mpassword\u001b[0m\u001b[0;34m=\u001b[0m\u001b[0;32mFalse\u001b[0m\u001b[0;34m,\u001b[0m\u001b[0;34m\u001b[0m\u001b[0;34m\u001b[0m\u001b[0m\n\u001b[0m\u001b[1;32m    705\u001b[0m         )\n\u001b[1;32m    706\u001b[0m \u001b[0;34m\u001b[0m\u001b[0m\n",
            "\u001b[0;32m/usr/local/lib/python3.7/dist-packages/ipykernel/kernelbase.py\u001b[0m in \u001b[0;36m_input_request\u001b[0;34m(self, prompt, ident, parent, password)\u001b[0m\n\u001b[1;32m    732\u001b[0m             \u001b[0;32mexcept\u001b[0m \u001b[0mKeyboardInterrupt\u001b[0m\u001b[0;34m:\u001b[0m\u001b[0;34m\u001b[0m\u001b[0;34m\u001b[0m\u001b[0m\n\u001b[1;32m    733\u001b[0m                 \u001b[0;31m# re-raise KeyboardInterrupt, to truncate traceback\u001b[0m\u001b[0;34m\u001b[0m\u001b[0;34m\u001b[0m\u001b[0;34m\u001b[0m\u001b[0m\n\u001b[0;32m--> 734\u001b[0;31m                 \u001b[0;32mraise\u001b[0m \u001b[0mKeyboardInterrupt\u001b[0m\u001b[0;34m\u001b[0m\u001b[0;34m\u001b[0m\u001b[0m\n\u001b[0m\u001b[1;32m    735\u001b[0m             \u001b[0;32melse\u001b[0m\u001b[0;34m:\u001b[0m\u001b[0;34m\u001b[0m\u001b[0;34m\u001b[0m\u001b[0m\n\u001b[1;32m    736\u001b[0m                 \u001b[0;32mbreak\u001b[0m\u001b[0;34m\u001b[0m\u001b[0;34m\u001b[0m\u001b[0m\n",
            "\u001b[0;31mKeyboardInterrupt\u001b[0m: "
          ]
        }
      ]
    },
    {
      "cell_type": "code",
      "source": [
        "number = -1\n",
        "again = \"yes\"\n",
        "while number != 5 and again != \"no\":\n",
        "    number = input(\"Guess the lucky number: \")\n",
        "    if number != 5:\n",
        "        print(\"That is not the lucky number\")\n",
        "        again = input(\"Would you like to guess again? \")"
      ],
      "metadata": {
        "colab": {
          "base_uri": "https://localhost:8080/"
        },
        "id": "JGsS0ie7iAuJ",
        "outputId": "78501d27-1d4a-479d-9e6a-79149339dea4"
      },
      "execution_count": null,
      "outputs": [
        {
          "name": "stdout",
          "output_type": "stream",
          "text": [
            "Guess the lucky number: 1\n",
            "That is not the lucky number\n",
            "Would you like to guess again? 2\n",
            "Guess the lucky number: 3\n",
            "That is not the lucky number\n",
            "Would you like to guess again? \n",
            "Guess the lucky number: 2\n",
            "That is not the lucky number\n",
            "Would you like to guess again? 2\n",
            "Guess the lucky number: 2\n",
            "That is not the lucky number\n",
            "Would you like to guess again? 2\n",
            "Guess the lucky number: 2\n",
            "That is not the lucky number\n",
            "Would you like to guess again? no\n"
          ]
        }
      ]
    },
    {
      "cell_type": "code",
      "source": [
        "''' 10. Write a program that asks five times to guess the lucky number. Use a while loop and a counter,\n",
        "such as\n",
        "While counter <= 5:\n",
        "print(“Type in the”, counter, “number”\n",
        "counter=counter+1\n",
        "The program asks for five guesses (no matter whether the correct number was guessed or not). If the\n",
        "correct number is guessed, the program outputs “Good guess!”, otherwise it outputs “Try again!”.\n",
        "After the fifth guess it stops and prints “Game over!”.  '''\n",
        "\n",
        "counter = 1\n",
        "while counter <= 5:\n",
        "   number = input(\"Guess the \" + str(counter) + \". number \")\n",
        "   if number != 5:\n",
        "       print(\"Try again.\")\n",
        "   else:\n",
        "       print(\"Good guess!\")\n",
        "   counter = counter +1\n",
        "else:\n",
        "   print(\"Game over\")\n"
      ],
      "metadata": {
        "colab": {
          "base_uri": "https://localhost:8080/"
        },
        "id": "-OUmpuYAihhc",
        "outputId": "516a6bd7-c42d-47b9-d4ff-5d3ea54f691c"
      },
      "execution_count": null,
      "outputs": [
        {
          "output_type": "stream",
          "name": "stdout",
          "text": [
            "Guess the 1. number 5\n",
            "Try again.\n",
            "Guess the 2. number 10\n",
            "Try again.\n",
            "Guess the 3. number 56\n",
            "Try again.\n",
            "Guess the 4. number 25\n",
            "Try again.\n",
            "Guess the 5. number 4\n",
            "Try again.\n",
            "Game over\n"
          ]
        }
      ]
    },
    {
      "cell_type": "code",
      "source": [
        "''' 11. In the previous question, insert break after the “Good guess!” print statement. break will terminate\n",
        "the while loop so that users do not have to continue guessing after they found the number. If the user\n",
        "does not guess the number at all, print “Sorry but that was not very successful”.  '''\n",
        "\n",
        "counter = 1\n",
        "while counter <= 5:\n",
        "  number = input(\"Guess the \" + str(counter) + \". number \")\n",
        "  if number != 5:\n",
        "    print(\"Try again\")\n",
        "  else:\n",
        "    print(\"Good guess!\")\n",
        "    break \n",
        "  counter += 1\n",
        "else:\n",
        "  print(\"Sorry but that was not very successful\")"
      ],
      "metadata": {
        "colab": {
          "base_uri": "https://localhost:8080/"
        },
        "id": "_H4U36wbjie6",
        "outputId": "327a784e-fdc0-43a3-911e-166f90976007"
      },
      "execution_count": null,
      "outputs": [
        {
          "output_type": "stream",
          "name": "stdout",
          "text": [
            "Guess the 1. number 1\n",
            "Try again\n",
            "Guess the 2. number 2\n",
            "Try again\n",
            "Guess the 3. number 5\n",
            "Try again\n",
            "Guess the 4. number 45\n",
            "Try again\n",
            "Guess the 5. number 10\n",
            "Try again\n",
            "Sorry but that was not very successful\n"
          ]
        }
      ]
    }
  ]
}