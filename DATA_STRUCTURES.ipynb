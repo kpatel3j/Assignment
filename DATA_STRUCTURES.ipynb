{
  "nbformat": 4,
  "nbformat_minor": 0,
  "metadata": {
    "colab": {
      "name": "DATA STRUCTURES.ipynb",
      "provenance": [],
      "collapsed_sections": [],
      "authorship_tag": "ABX9TyOFM8zHmyXPIke39Mu6gmga",
      "include_colab_link": true
    },
    "kernelspec": {
      "name": "python3",
      "display_name": "Python 3"
    },
    "language_info": {
      "name": "python"
    }
  },
  "cells": [
    {
      "cell_type": "markdown",
      "metadata": {
        "id": "view-in-github",
        "colab_type": "text"
      },
      "source": [
        "<a href=\"https://colab.research.google.com/github/kpatel3j/Assignment/blob/main/DATA_STRUCTURES.ipynb\" target=\"_parent\"><img src=\"https://colab.research.google.com/assets/colab-badge.svg\" alt=\"Open In Colab\"/></a>"
      ]
    },
    {
      "cell_type": "code",
      "execution_count": null,
      "metadata": {
        "colab": {
          "base_uri": "https://localhost:8080/"
        },
        "id": "FTQvQud1lORY",
        "outputId": "05838e19-678b-418f-a501-ceda10d34cff"
      },
      "outputs": [
        {
          "output_type": "stream",
          "name": "stdout",
          "text": [
            "[1, 'string', 3.5, 9j, 2, 5, 'key', 5.2, 10, 15j]\n"
          ]
        }
      ],
      "source": [
        "# 1. Create a list of 10 elements of four different data types like int, string, complex and float.\n",
        "lst = [1, \"string\", 3.5, 9j, 2, 5, \"key\", 5.2, 10, 15j]\n",
        "print(lst)"
      ]
    },
    {
      "cell_type": "code",
      "source": [
        "# 2. Create a list of size 5 and execute the slicing structure.\n",
        "list1 = [1, 2, 3, 4, 5]\n",
        "print(list1[0:])        # prints all nums\n",
        "print(list1[0:3])       # prints 3 nums\n",
        "print(list1[:-1])      # prints all except last one\n",
        "print(list1[::-1])    # prints in reverse \n",
        "print(list1[::2])     # prints odd nums"
      ],
      "metadata": {
        "colab": {
          "base_uri": "https://localhost:8080/"
        },
        "id": "TlP0FhKUl_tQ",
        "outputId": "036e0700-b5cb-42cc-8415-d5718b68cff1"
      },
      "execution_count": null,
      "outputs": [
        {
          "output_type": "stream",
          "name": "stdout",
          "text": [
            "[1, 2, 3, 4, 5]\n",
            "[1, 2, 3]\n",
            "[1, 2, 3, 4]\n",
            "[5, 4, 3, 2, 1]\n",
            "[1, 3, 5]\n"
          ]
        }
      ]
    },
    {
      "cell_type": "code",
      "source": [
        "# 3. Write a program to get the sum and multiply of all the items in a given list.\n",
        "\n",
        "list1 = [1, 2, 3, 4, 5]\n",
        "print(sum(list1))\n",
        "multiply = 1\n",
        "for i  in list1:\n",
        "  multiply *= i\n",
        "print(multiply)"
      ],
      "metadata": {
        "colab": {
          "base_uri": "https://localhost:8080/"
        },
        "id": "8TjlPvWQneOC",
        "outputId": "19ad7906-0e99-418f-f2ac-256d8c6690f4"
      },
      "execution_count": null,
      "outputs": [
        {
          "output_type": "stream",
          "name": "stdout",
          "text": [
            "15\n",
            "120\n"
          ]
        }
      ]
    },
    {
      "cell_type": "code",
      "source": [
        "# 4. Find the largest and smallest number from a given list.\n",
        "\n",
        "list1 = [1, 2, 3, 4, 5]\n",
        "print(min(list1))\n",
        "print(max(list1))"
      ],
      "metadata": {
        "colab": {
          "base_uri": "https://localhost:8080/"
        },
        "id": "qiQPM98-pyVw",
        "outputId": "d0b0871b-574c-405a-887b-4ae9853da75c"
      },
      "execution_count": null,
      "outputs": [
        {
          "output_type": "stream",
          "name": "stdout",
          "text": [
            "1\n",
            "5\n"
          ]
        }
      ]
    },
    {
      "cell_type": "code",
      "source": [
        "# 5. Create a new list which contains the specified numbers after removing the even numbers from a predefined list.\n",
        "\n",
        "list1 = [1, 2, 3, 4, 5]\n",
        "list2 = [i for i in list1 if i % 2 != 0]\n",
        "print(list2)"
      ],
      "metadata": {
        "colab": {
          "base_uri": "https://localhost:8080/"
        },
        "id": "WEYi1abnqHN-",
        "outputId": "36dc5aee-548a-4a6a-839a-07e1b4cb09a5"
      },
      "execution_count": null,
      "outputs": [
        {
          "output_type": "stream",
          "name": "stdout",
          "text": [
            "[1, 3, 5]\n"
          ]
        }
      ]
    },
    {
      "cell_type": "code",
      "source": [
        "# 6. Create a list of elements such that it contains the squares of the first and last 5 elements between 1 and30 (both included).\n",
        "\n",
        "list3 = []\n",
        "for i in range(1, 31):\n",
        "  list3.append(i**2)\n",
        "print(list3[:5])\n",
        "print(list3[-5:])"
      ],
      "metadata": {
        "colab": {
          "base_uri": "https://localhost:8080/"
        },
        "id": "wsJZBo43q-TI",
        "outputId": "31c30e89-b747-49e6-c9b6-3a4db20f2a5a"
      },
      "execution_count": null,
      "outputs": [
        {
          "output_type": "stream",
          "name": "stdout",
          "text": [
            "[1, 4, 9, 16, 25]\n",
            "[676, 729, 784, 841, 900]\n"
          ]
        }
      ]
    },
    {
      "cell_type": "code",
      "source": [
        "# 7. Write a program to replace the last element in a list with another list.\n",
        "# Sample input: [1,3,5,7,9,10], [2,4,6,8]\n",
        "# Expected output: [1,3,5,7,9,2,4,6,8]\n",
        "\n",
        "list = [1,3,5,7,9,10]\n",
        "list[-1:]= 2,4,6,8\n",
        "print(list)"
      ],
      "metadata": {
        "colab": {
          "base_uri": "https://localhost:8080/"
        },
        "id": "xeQcZ6_7s-uR",
        "outputId": "009f161b-e1dc-44dc-9169-15a4837700e8"
      },
      "execution_count": null,
      "outputs": [
        {
          "output_type": "stream",
          "name": "stdout",
          "text": [
            "[1, 3, 5, 7, 9, 2, 4, 6, 8]\n"
          ]
        }
      ]
    },
    {
      "cell_type": "code",
      "source": [
        "# 8. Create a new dictionary by concatenating the following two dictionaries:\n",
        "# Sample input: a={1:10,2:20} b={3:30,4:40}\n",
        "# Expected output: {1:10,2:20,3:30,4:40}\n",
        "a = {1:10,2:20}\n",
        "b = {3:30,4:40}\n",
        "a.update(b)\n",
        "print(a)"
      ],
      "metadata": {
        "colab": {
          "base_uri": "https://localhost:8080/"
        },
        "id": "QXOmFzSSp3pZ",
        "outputId": "40541634-3156-41a3-9c46-7f074c75886f"
      },
      "execution_count": null,
      "outputs": [
        {
          "output_type": "stream",
          "name": "stdout",
          "text": [
            "{1: 10, 2: 20, 3: 30, 4: 40}\n"
          ]
        }
      ]
    },
    {
      "cell_type": "code",
      "source": [
        "# 9. Create a dictionary that contain numbers in the form(x:x*x) where x takes all the values between 1 and n(both 1 and n included).\n",
        "# Sample input: n=5\n",
        "# Expected output: {1:1, 2:4, 3:9, 4:16, 5:25}\n",
        "\n",
        "n = 5\n",
        "d = dict()\n",
        "for x in range(1, n+1):\n",
        "  d[x]=x*x\n",
        "print(d)"
      ],
      "metadata": {
        "colab": {
          "base_uri": "https://localhost:8080/"
        },
        "id": "TGusG6ZHrTyn",
        "outputId": "c922170f-5a05-47c8-d000-d9d9a35a8880"
      },
      "execution_count": null,
      "outputs": [
        {
          "output_type": "stream",
          "name": "stdout",
          "text": [
            "{1: 1, 2: 4, 3: 9, 4: 16, 5: 25}\n"
          ]
        }
      ]
    },
    {
      "cell_type": "code",
      "source": [
        "# 10. Write a program which accepts a sequence of comma-separated numbers from console and generates a list and a tuple which contains every number in the form of string.\n",
        "# Sample input: 34,67,55,33,12,98\n",
        "# Expected output: [‘34’,’67’,’55’,’33’,’12’,’98’] (‘34’,’67’,’55’,’33’,’12’,’98’)\n",
        "\n",
        "nums = input(\"Type in numbers seperated only by a comma: \")\n",
        "nums_split = nums.split(',')\n",
        "\n",
        "nums_tuple = tuple(nums_split)\n",
        "\n",
        "print(nums_split)\n",
        "print(nums_tuple)"
      ],
      "metadata": {
        "colab": {
          "base_uri": "https://localhost:8080/"
        },
        "id": "3yAgxBXNsmL_",
        "outputId": "19726d67-7326-4bc2-9aa1-25aef2301394"
      },
      "execution_count": null,
      "outputs": [
        {
          "output_type": "stream",
          "name": "stdout",
          "text": [
            "Type in numbers seperated only by a comma: 1,2,2,3,5,4\n",
            "['1', '2', '2', '3', '5', '4']\n",
            "('1', '2', '2', '3', '5', '4')\n"
          ]
        }
      ]
    }
  ]
}